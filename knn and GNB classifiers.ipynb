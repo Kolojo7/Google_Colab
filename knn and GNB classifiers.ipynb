{
  "nbformat": 4,
  "nbformat_minor": 0,
  "metadata": {
    "colab": {
      "provenance": [],
      "authorship_tag": "ABX9TyML372t8/Eemj6wyjLNY43F",
      "include_colab_link": true
    },
    "kernelspec": {
      "name": "python3",
      "display_name": "Python 3"
    },
    "language_info": {
      "name": "python"
    }
  },
  "cells": [
    {
      "cell_type": "markdown",
      "metadata": {
        "id": "view-in-github",
        "colab_type": "text"
      },
      "source": [
        "<a href=\"https://colab.research.google.com/github/Kolojo7/Google_Colab/blob/main/knn%20and%20GNB%20classifiers.ipynb\" target=\"_parent\"><img src=\"https://colab.research.google.com/assets/colab-badge.svg\" alt=\"Open In Colab\"/></a>"
      ]
    },
    {
      "cell_type": "markdown",
      "source": [
        "1. Data might not be IID in email spam filtering because spam emails learn from what works on people and what doesn't. Because it can learn from past emails and adapt to be more successful. For this reason it cannot be independent. It is not identical for this same reason because it targets people more if they fall for it. Someone could be targeted by AI 100 times and someone else could be targeted 1000 times because they are more susceptible to it causing an uneven spread\n",
        "\n",
        "2. Training error is relevant to the training data, while hyper-parameters are relevant to testing errors. Training errors are a result of the data, while hyper-parameters are a result of the model. Training errors produce parameters for the data. Test errors produce hyper-parameters for the model.\n",
        "\n",
        "3. Random trees are a type of decision tree used in ensemble methods like Random Forests. Instead of considering all possible features when making a split, a random tree selects a random subset of features. This approach introduces randomness into the model-building process, helping to create diverse trees that can improve the overall model’s performance and robustness by reducing overfitting and increasing generalization.\n",
        "\n",
        "4. An advantage of using a a large k value in k-fold cross-validation is that it makes it more generalized which reduces processing power and can go through data faster. A disadvantage is that it increases the training error which decreases the accuracy becomes more and may cause more overfitting\n",
        "\n",
        "5. Increasing false positives can be an acceptable risk in situations where missing a positive case (false negatives) is more costly or harmful. For example, in pregnancy testing, a false positive (indicating pregnancy when one isn't pregnant) might be considered less harmful than a false negative (failing to detect an actual pregnancy). This is because it is generally more costly and potentially more harmful to miss a pregnancy than to undergo additional testing to confirm a positive result.\n",
        "\n",
        "6. P(xi) is a constant value in the data set. Because of this we can ignore it because it is the same for all values\n",
        "\n",
        "7. The two key components of random forests are:\n",
        "Bootstrapping: a technique for creating multiple \"versions\" of the dataset\n",
        "Random trees: a method for building decision trees that introduces randomness into the tree-growing process"
      ],
      "metadata": {
        "id": "FC6YAwwqOJNU"
      }
    },
    {
      "cell_type": "code",
      "source": [
        "import numpy as npy\n",
        "import matplotlib.pyplot as mpplt\n",
        "from sklearn import datasets as dts, metrics as mtr\n",
        "from sklearn.model_selection import train_test_split as tts\n",
        "from collections import Counter as Cntr\n",
        "\n",
        "# Load the digits dataset\n",
        "digits = dts.load_digits()\n",
        "\n",
        "# Display the first 4 images with labels from the dataset\n",
        "_, axes = mpplt.subplots(nrows=1, ncols=4, figsize=(10, 3))\n",
        "for ax, image, label in zip(axes, digits.images, digits.target):\n",
        "    ax.set_axis_off()  # Hide axes for a cleaner look\n",
        "    ax.imshow(image, cmap=mpplt.cm.gray_r, interpolation=\"nearest\")\n",
        "    ax.set_title(f\"Label: {label}\")\n",
        "\n",
        "# Flatten the images into a vector (64 features per image)\n",
        "n_samples = len(digits.images)\n",
        "data = digits.images.reshape((n_samples, -1))\n",
        "\n",
        "# Split the data into 50% training and 50% testing\n",
        "X_train, X_test, y_train, y_test = tts(data, digits.target, test_size=0.5, shuffle=False)\n",
        "\n",
        "# Function to calculate the sum of squared differences (distance metric)\n",
        "def distanceMetric(x1, x2):\n",
        "    return npy.sum((x1 - x2) ** 2)\n",
        "\n",
        "# k-Nearest Neighbors: Predict the label for a test instance\n",
        "def knn_predict(X_train, y_train, test_instance, k):\n",
        "    # Calculate distances from the test instance to all training instances\n",
        "    distances = [distanceMetric(test_instance, x_train) for x_train in X_train]\n",
        "\n",
        "    # Get the indices of the k closest neighbors\n",
        "    nearestNeighbors = npy.argsort(distances)[:k]\n",
        "\n",
        "    # Get the labels of the k closest neighbors\n",
        "    nearest_labels = [y_train[i] for i in nearestNeighbors]\n",
        "\n",
        "    # Return the most common label among the neighbors\n",
        "    most_common_label = Cntr(nearest_labels).most_common(1)[0][0]\n",
        "    return most_common_label\n",
        "\n",
        "# Evaluate k-NN for a given value of k\n",
        "def evaluate_knn(k):\n",
        "    # Predict labels for all test instances\n",
        "    predictions = [knn_predict(X_train, y_train, test_instance, k) for test_instance in X_test]\n",
        "\n",
        "    # Calculate the accuracy and confusion matrix\n",
        "    accuracy = mtr.accuracy_score(y_test, predictions)\n",
        "    confusion_matrix = mtr.confusion_matrix(y_test, predictions)\n",
        "    return accuracy, confusion_matrix\n",
        "\n",
        "# Gaussian Naive Bayes: Calculate prior probabilities for each class\n",
        "def calculate_priors(y_train):\n",
        "    total_samples = len(y_train)\n",
        "    # Calculate the priors for each unique label\n",
        "    priors = {label: npy.sum(y_train == label) / total_samples for label in npy.unique(y_train)}\n",
        "    return priors\n",
        "\n",
        "# Gaussian Naive Bayes: Calculate mean and variance of features for each class\n",
        "def calculate_gnb_parameters(X_train, y_train):\n",
        "    # Mean and variance for each feature in each class\n",
        "    means = {label: npy.mean(X_train[y_train == label], axis=0) for label in npy.unique(y_train)}\n",
        "    variances = {label: npy.var(X_train[y_train == label], axis=0) for label in npy.unique(y_train)}\n",
        "    return means, variances\n",
        "\n",
        "# Gaussian Naive Bayes: Compute Gaussian probability for a given feature\n",
        "def gaussian_probability(x, mean, var):\n",
        "    eps = 1e-6  # Small epsilon to avoid division by zero\n",
        "    coeff = 1.0 / npy.sqrt(2.0 * npy.pi * var + eps)  # Coefficient\n",
        "    exponent = npy.exp(-((x - mean) ** 2) / (2 * var + eps))  # Exponent\n",
        "    return coeff * exponent\n",
        "\n",
        "# Gaussian Naive Bayes: Predict the class label for a test instance\n",
        "def gnb_predict(test_instance, priors, means, variances):\n",
        "    log_posteriors = {}\n",
        "    for label in priors:\n",
        "        # Log prior for the class\n",
        "        log_posterior = npy.log(priors[label])\n",
        "        # Log likelihood for each feature in the test instance\n",
        "        likelihoods = gaussian_probability(test_instance, means[label], variances[label])\n",
        "        log_posterior += npy.sum(npy.log(likelihoods + 1e-6))  # Avoid log(0) with small epsilon\n",
        "        log_posteriors[label] = log_posterior\n",
        "    # Return the class with the highest log posterior\n",
        "    return max(log_posteriors, key=log_posteriors.get)\n",
        "\n",
        "# Evaluate Gaussian Naive Bayes classifier\n",
        "def evaluate_gnb(X_test, y_test, priors, means, variances):\n",
        "    # Predict labels for all test instances\n",
        "    predictions = [gnb_predict(test_instance, priors, means, variances) for test_instance in X_test]\n",
        "\n",
        "    # Calculate the accuracy and confusion matrix\n",
        "    accuracy = mtr.accuracy_score(y_test, predictions)\n",
        "    confusion_matrix = mtr.confusion_matrix(y_test, predictions)\n",
        "    return accuracy, confusion_matrix\n",
        "\n",
        "# Calculate priors, means, and variances for training data\n",
        "priors = calculate_priors(y_train)\n",
        "means, variances = calculate_gnb_parameters(X_train, y_train)\n",
        "\n",
        "# Evaluate Gaussian Naive Bayes\n",
        "gnb_accuracy, gnb_confusion_matrix = evaluate_gnb(X_test, y_test, priors, means, variances)\n",
        "\n",
        "# List of k values to test for k-NN\n",
        "k_values = [1, 3, 5, 100, 500]\n",
        "knn_results = {}\n",
        "\n",
        "# Evaluate k-NN for different values of k\n",
        "for k in k_values:\n",
        "    accuracy, confusion_matrix = evaluate_knn(k)\n",
        "    knn_results[k] = {'accuracy': accuracy, 'confusion_matrix': confusion_matrix}\n",
        "\n",
        "# Print k-NN results\n",
        "for k, result in knn_results.items():\n",
        "    print(f'k={k} Accuracy: {result[\"accuracy\"]}')\n",
        "    print(f'Confusion Matrix for k={k}:\\n{result[\"confusion_matrix\"]}\\n')\n",
        "\n",
        "# Print Gaussian Naive Bayes results\n",
        "print(f'Gaussian Naive Bayes Accuracy: {gnb_accuracy}')\n",
        "print(f'Confusion Matrix for Gaussian Naive Bayes:\\n{gnb_confusion_matrix}')\n",
        "\n",
        "# Show the plots for the first 4 test images with their predicted labels (for each value of k)\n",
        "for k in k_values:\n",
        "    _, axes = mpplt.subplots(nrows=1, ncols=4, figsize=(10, 3))\n",
        "    predicted_labels = [knn_predict(X_train, y_train, test_instance, k) for test_instance in X_test[:4]]\n",
        "    for ax, image, prediction in zip(axes, X_test[:4], predicted_labels):\n",
        "        ax.set_axis_off()\n",
        "        image = image.reshape(8, 8)\n",
        "        ax.imshow(image, cmap=mpplt.cm.gray_r, interpolation=\"nearest\")\n",
        "        ax.set_title(f\"Prediction: {prediction}\")\n",
        "\n",
        "# Show plots\n",
        "mpplt.show()\n"
      ],
      "metadata": {
        "colab": {
          "base_uri": "https://localhost:8080/",
          "height": 1000
        },
        "collapsed": true,
        "id": "7wLQOsP06i83",
        "outputId": "02631731-b22e-46a5-85a1-a3ffd962c327"
      },
      "execution_count": null,
      "outputs": [
        {
          "output_type": "stream",
          "name": "stdout",
          "text": [
            "k=1 Accuracy: 0.9610678531701891\n",
            "Confusion Matrix for k=1:\n",
            "[[87  0  0  0  1  0  0  0  0  0]\n",
            " [ 0 88  1  0  0  0  0  0  2  0]\n",
            " [ 1  0 83  2  0  0  0  0  0  0]\n",
            " [ 0  0  0 84  0  2  0  1  2  2]\n",
            " [ 0  0  0  0 87  0  0  0  0  5]\n",
            " [ 0  0  0  0  0 89  1  0  0  1]\n",
            " [ 0  0  0  0  0  0 91  0  0  0]\n",
            " [ 0  0  0  0  0  0  0 88  1  0]\n",
            " [ 0  4  0  2  0  0  0  0 81  1]\n",
            " [ 0  0  0  4  0  2  0  0  0 86]]\n",
            "\n",
            "k=3 Accuracy: 0.9588431590656284\n",
            "Confusion Matrix for k=3:\n",
            "[[87  0  0  0  1  0  0  0  0  0]\n",
            " [ 0 88  1  0  0  0  0  0  2  0]\n",
            " [ 1  0 81  4  0  0  0  0  0  0]\n",
            " [ 0  0  1 83  0  1  0  2  2  2]\n",
            " [ 0  0  0  0 86  0  0  0  0  6]\n",
            " [ 0  0  0  0  0 88  1  0  0  2]\n",
            " [ 0  0  0  0  0  0 91  0  0  0]\n",
            " [ 0  0  0  0  0  0  0 88  1  0]\n",
            " [ 0  2  0  2  0  0  0  0 84  0]\n",
            " [ 0  0  0  3  0  2  0  0  1 86]]\n",
            "\n",
            "k=5 Accuracy: 0.9543937708565072\n",
            "Confusion Matrix for k=5:\n",
            "[[88  0  0  0  0  0  0  0  0  0]\n",
            " [ 0 88  1  0  0  0  0  0  1  1]\n",
            " [ 1  0 80  5  0  0  0  0  0  0]\n",
            " [ 0  0  1 82  0  1  0  3  3  1]\n",
            " [ 0  0  0  0 86  0  0  1  0  5]\n",
            " [ 0  0  0  0  0 89  1  0  0  1]\n",
            " [ 0  0  0  0  0  0 91  0  0  0]\n",
            " [ 0  0  0  0  0  0  0 89  0  0]\n",
            " [ 0  4  1  1  0  0  0  1 80  1]\n",
            " [ 0  0  0  4  0  2  0  0  1 85]]\n",
            "\n",
            "k=100 Accuracy: 0.8798665183537263\n",
            "Confusion Matrix for k=100:\n",
            "[[87  0  0  0  1  0  0  0  0  0]\n",
            " [ 0 66  9  5  0  1  0  0  1  9]\n",
            " [ 1  0 74 11  0  0  0  0  0  0]\n",
            " [ 0  0  0 80  0  2  0  5  3  1]\n",
            " [ 4  0  0  0 85  0  0  2  1  0]\n",
            " [ 0  0  0  1  0 77  3  0  0 10]\n",
            " [ 0  1  0  0  0  0 90  0  0  0]\n",
            " [ 0  0  1  0  0  0  0 88  0  0]\n",
            " [ 0  2  2  7  0  5  1  2 65  4]\n",
            " [ 1  0  0  6  0  4  0  1  1 79]]\n",
            "\n",
            "k=500 Accuracy: 0.5439377085650723\n",
            "Confusion Matrix for k=500:\n",
            "[[86  0  0  0  1  0  1  0  0  0]\n",
            " [ 2  6 27  8  8  0 13  0 17 10]\n",
            " [ 2  0 24 52  0  0  7  0  1  0]\n",
            " [ 1  0  1 80  0  2  0  3  4  0]\n",
            " [18  0  0  0 42  1 26  3  2  0]\n",
            " [ 9  0  0 20  0 54  5  0  0  3]\n",
            " [ 0  1  0  0  0  0 90  0  0  0]\n",
            " [ 0  0  3  3  4  2  0 60 17  0]\n",
            " [ 6  0  5 15  2 12  4  1 41  2]\n",
            " [10  0  0 70  0  5  0  1  0  6]]\n",
            "\n",
            "Gaussian Naive Bayes Accuracy: 0.8053392658509455\n",
            "Confusion Matrix for Gaussian Naive Bayes:\n",
            "[[87  0  0  0  0  0  0  0  1  0]\n",
            " [ 0 70  1  0  0  1  0  1 11  7]\n",
            " [ 1  8 70  4  0  0  0  0  3  0]\n",
            " [ 2  1  0 72  0  1  0  4 11  0]\n",
            " [ 2  0  0  0 65  0  1 23  1  0]\n",
            " [ 1  2  0  6  0 70  4  4  2  2]\n",
            " [ 0  2  0  0  0  0 89  0  0  0]\n",
            " [ 0  0  1  0  0  1  0 86  1  0]\n",
            " [ 0  2  2  0  0  3  0  5 76  0]\n",
            " [13  2  0 17  0  2  0  7 12 39]]\n"
          ]
        },
        {
          "output_type": "display_data",
          "data": {
            "text/plain": [
              "<Figure size 1000x300 with 4 Axes>"
            ],
            "image/png": "[encoded data removed]"
          },
          "metadata": {}
        },
        {
          "output_type": "display_data",
          "data": {
            "text/plain": [
              "<Figure size 1000x300 with 4 Axes>"
            ],
            "image/png": "[encoded data removed]"
          },
          "metadata": {}
        },
        {
          "output_type": "display_data",
          "data": {
            "text/plain": [
              "<Figure size 1000x300 with 4 Axes>"
            ],
            "image/png": "[encoded data removed]"
          },
          "metadata": {}
        },
        {
          "output_type": "display_data",
          "data": {
            "text/plain": [
              "<Figure size 1000x300 with 4 Axes>"
            ],
            "image/png": "[encoded data removed]"
          },
          "metadata": {}
        },
        {
          "output_type": "display_data",
          "data": {
            "text/plain": [
              "<Figure size 1000x300 with 4 Axes>"
            ],
            "image/png": "[encoded data removed]"
          },
          "metadata": {}
        },
        {
          "output_type": "display_data",
          "data": {
            "text/plain": [
              "<Figure size 1000x300 with 4 Axes>"
            ],
            "image/png": "[encoded data removed]"
          },
          "metadata": {}
        }
      ]
    },
    {
      "cell_type": "code",
      "source": [
        "import numpy as np\n",
        "import matplotlib.pyplot as plt\n",
        "from sklearn import datasets, metrics\n",
        "from sklearn.model_selection import train_test_split\n",
        "from collections import Counter\n",
        "\n",
        "# Load digits dataset\n",
        "digits = datasets.load_digits()\n",
        "\n",
        "# Showing first 4 training images\n",
        "_, axes = plt.subplots(nrows=1, ncols=4, figsize=(10, 3))\n",
        "for ax, image, label in zip(axes, digits.images, digits.target):\n",
        "    ax.set_axis_off()\n",
        "    ax.imshow(image, cmap=plt.cm.gray_r, interpolation=\"nearest\")\n",
        "    ax.set_title(f\"Training: {label}\")\n",
        "\n",
        "# Flatten the images\n",
        "n_samples = len(digits.images)\n",
        "data = digits.images.reshape((n_samples, -1))\n",
        "\n",
        "# Split data into training and testing\n",
        "X_train, X_test, y_train, y_test = train_test_split(data, digits.target, test_size=0.5, shuffle=False)\n",
        "\n",
        "# Implementing sum of squares distance for kNN\n",
        "def distanceCalc(x1, x2):\n",
        "    return np.sum((x1 - x2) ** 2)\n",
        "\n",
        "# k Nearest Neighbours classifier\n",
        "def knn(X_train, y_train, X_test_instance, k):\n",
        "    distances = [distanceCalc(X_test_instance, x_train) for x_train in X_train]\n",
        "    distancesSorted = np.argsort(distances)\n",
        "    kNear = [y_train[i] for i in distancesSorted[:k]]\n",
        "    mostCommon = Counter(kNear).most_common(1)[0][0]\n",
        "    return mostCommon\n",
        "\n",
        "# kNN evaluation function\n",
        "def kCompute(k):\n",
        "    yPred = [knn(X_train, y_train, x_test, k) for x_test in X_test]\n",
        "    accuracy = metrics.accuracy_score(y_test, yPred)\n",
        "    cm = metrics.confusion_matrix(y_test, yPred)\n",
        "    return accuracy, cm\n",
        "\n",
        "# Gaussian Naive Bayes Implementation\n",
        "def priorCalc(y_train):\n",
        "    priors = {}\n",
        "    total_samples = len(y_train)\n",
        "    for label in np.unique(y_train):\n",
        "        priors[label] = np.sum(y_train == label) / total_samples\n",
        "    return priors\n",
        "\n",
        "# Creating function to calculate the parameters of the GNB\n",
        "def _GNBParameters(X_train, y_train):\n",
        "    means = {}\n",
        "    variances = {}\n",
        "    for label in np.unique(y_train):\n",
        "        X_train_class = X_train[y_train == label]\n",
        "        means[label] = np.mean(X_train_class, axis=0)\n",
        "        variances[label] = np.var(X_train_class, axis=0)\n",
        "    return means, variances\n",
        "\n",
        "# Calculating the probability in the GNB process\n",
        "def _GNBProbability(x, mean, var):\n",
        "    eps = 1e-6  #\n",
        "    coeff = 1.0 / np.sqrt(2.0 * np.pi * var + eps)\n",
        "    exponent = np.exp(- ((x - mean) ** 2) / (2 * var + eps))\n",
        "    return coeff * exponent\n",
        "\n",
        "# Calculating the predictors for GNB\n",
        "def _GNBPredict(X_test_instance, priors, means, variances):\n",
        "    posteriors = {}\n",
        "\n",
        "    for label in priors:\n",
        "        posterior = np.log(priors[label])\n",
        "        likelihoods = _GNBProbability(X_test_instance, means[label], variances[label])\n",
        "        posterior += np.sum(np.log(likelihoods + 1e-6))\n",
        "        posteriors[label] = posterior\n",
        "\n",
        "    return max(posteriors, key=posteriors.get)\n",
        "\n",
        "# Final calculation of GNB where we compute the accuracy and confusion matrix\n",
        "def _GNBCompute(X_test, y_test, priors, means, variances):\n",
        "    y_pred = [_GNBPredict(x_test, priors, means, variances) for x_test in X_test]\n",
        "    accuracy = metrics.accuracy_score(y_test, y_pred)\n",
        "    cm = metrics.confusion_matrix(y_test, y_pred)\n",
        "    return accuracy, cm\n",
        "\n",
        "# Calculate priors, means, and variances for GNB\n",
        "priors = priorCalc(y_train)\n",
        "means, variances = _GNBParameters(X_train, y_train)\n",
        "# Evaluate the Gaussian Naive Bayes model\n",
        "gnbAccuracy, gnbConfusionMatrix = _GNBCompute(X_test, y_test, priors, means, variances)\n",
        "\n",
        "# Each stated value of k to test for kNN and storing the result\n",
        "k_values = [1, 3, 5, 100, 500]\n",
        "results = {}\n",
        "\n",
        "# Evaluate kNN for different values of k\n",
        "for k in k_values:\n",
        "    accuracy, cm = kCompute(k)\n",
        "    results[k] = {'accuracy': accuracy, 'confusion_matrix': cm}\n",
        "\n",
        "# Print out kNN results\n",
        "for k, res in results.items():\n",
        "    print(f'k={k} Accuracy: {res[\"accuracy\"]}')\n",
        "    print(f'Confusion Matrix for k={k}:\\n{res[\"confusion_matrix\"]}\\n')\n",
        "\n",
        "    # Plot first 4 test images with their predicted labels\n",
        "    _, axes = plt.subplots(nrows=1, ncols=4, figsize=(10, 3))\n",
        "    predicted_labels = [knn(X_train, y_train, x_test, k) for x_test in X_test[:4]]\n",
        "    for ax, image, prediction in zip(axes, X_test[:4], predicted_labels):\n",
        "        ax.set_axis_off()\n",
        "        image = image.reshape(8, 8)  # Reshape for visualization\n",
        "        ax.imshow(image, cmap=plt.cm.gray_r, interpolation=\"nearest\")\n",
        "        ax.set_title(f\"Prediction: {prediction}\")\n",
        "\n",
        "# Print out GNB results\n",
        "print(f'\\nGNB Accuracy: {gnbAccuracy}')\n",
        "print(f'GNB Confusion Matrix:\\n{gnbConfusionMatrix}')\n",
        "\n",
        "plt.figure(figsize=(8, 6))\n",
        "plt.show()\n"
      ],
      "metadata": {
        "colab": {
          "base_uri": "https://localhost:8080/",
          "height": 1000
        },
        "id": "dFYGMyJZPxOw",
        "outputId": "ac8ccf29-22e3-446b-9cca-182c650917d1"
      },
      "execution_count": 1,
      "outputs": [
        {
          "output_type": "stream",
          "name": "stdout",
          "text": [
            "k=1 Accuracy: 0.9610678531701891\n",
            "Confusion Matrix for k=1:\n",
            "[[87  0  0  0  1  0  0  0  0  0]\n",
            " [ 0 88  1  0  0  0  0  0  2  0]\n",
            " [ 1  0 83  2  0  0  0  0  0  0]\n",
            " [ 0  0  0 84  0  2  0  1  2  2]\n",
            " [ 0  0  0  0 87  0  0  0  0  5]\n",
            " [ 0  0  0  0  0 89  1  0  0  1]\n",
            " [ 0  0  0  0  0  0 91  0  0  0]\n",
            " [ 0  0  0  0  0  0  0 88  1  0]\n",
            " [ 0  4  0  2  0  0  0  0 81  1]\n",
            " [ 0  0  0  4  0  2  0  0  0 86]]\n",
            "\n",
            "k=3 Accuracy: 0.9588431590656284\n",
            "Confusion Matrix for k=3:\n",
            "[[87  0  0  0  1  0  0  0  0  0]\n",
            " [ 0 88  1  0  0  0  0  0  2  0]\n",
            " [ 1  0 81  4  0  0  0  0  0  0]\n",
            " [ 0  0  1 83  0  1  0  2  2  2]\n",
            " [ 0  0  0  0 86  0  0  0  0  6]\n",
            " [ 0  0  0  0  0 88  1  0  0  2]\n",
            " [ 0  0  0  0  0  0 91  0  0  0]\n",
            " [ 0  0  0  0  0  0  0 88  1  0]\n",
            " [ 0  2  0  2  0  0  0  0 84  0]\n",
            " [ 0  0  0  3  0  2  0  0  1 86]]\n",
            "\n",
            "k=5 Accuracy: 0.9543937708565072\n",
            "Confusion Matrix for k=5:\n",
            "[[88  0  0  0  0  0  0  0  0  0]\n",
            " [ 0 88  1  0  0  0  0  0  1  1]\n",
            " [ 1  0 80  5  0  0  0  0  0  0]\n",
            " [ 0  0  1 82  0  1  0  3  3  1]\n",
            " [ 0  0  0  0 86  0  0  1  0  5]\n",
            " [ 0  0  0  0  0 89  1  0  0  1]\n",
            " [ 0  0  0  0  0  0 91  0  0  0]\n",
            " [ 0  0  0  0  0  0  0 89  0  0]\n",
            " [ 0  4  1  1  0  0  0  1 80  1]\n",
            " [ 0  0  0  4  0  2  0  0  1 85]]\n",
            "\n",
            "k=100 Accuracy: 0.8798665183537263\n",
            "Confusion Matrix for k=100:\n",
            "[[87  0  0  0  1  0  0  0  0  0]\n",
            " [ 0 66  9  5  0  1  0  0  1  9]\n",
            " [ 1  0 74 11  0  0  0  0  0  0]\n",
            " [ 0  0  0 80  0  2  0  5  3  1]\n",
            " [ 4  0  0  0 85  0  0  2  1  0]\n",
            " [ 0  0  0  1  0 77  3  0  0 10]\n",
            " [ 0  1  0  0  0  0 90  0  0  0]\n",
            " [ 0  0  1  0  0  0  0 88  0  0]\n",
            " [ 0  2  2  7  0  5  1  2 65  4]\n",
            " [ 1  0  0  6  0  4  0  1  1 79]]\n",
            "\n",
            "k=500 Accuracy: 0.5439377085650723\n",
            "Confusion Matrix for k=500:\n",
            "[[86  0  0  0  1  0  1  0  0  0]\n",
            " [ 2  6 27  8  8  0 13  0 17 10]\n",
            " [ 2  0 24 52  0  0  7  0  1  0]\n",
            " [ 1  0  1 80  0  2  0  3  4  0]\n",
            " [18  0  0  0 42  1 26  3  2  0]\n",
            " [ 9  0  0 20  0 54  5  0  0  3]\n",
            " [ 0  1  0  0  0  0 90  0  0  0]\n",
            " [ 0  0  3  3  4  2  0 60 17  0]\n",
            " [ 6  0  5 15  2 12  4  1 41  2]\n",
            " [10  0  0 70  0  5  0  1  0  6]]\n",
            "\n",
            "\n",
            "GNB Accuracy: 0.8053392658509455\n",
            "GNB Confusion Matrix:\n",
            "[[87  0  0  0  0  0  0  0  1  0]\n",
            " [ 0 70  1  0  0  1  0  1 11  7]\n",
            " [ 1  8 70  4  0  0  0  0  3  0]\n",
            " [ 2  1  0 72  0  1  0  4 11  0]\n",
            " [ 2  0  0  0 65  0  1 23  1  0]\n",
            " [ 1  2  0  6  0 70  4  4  2  2]\n",
            " [ 0  2  0  0  0  0 89  0  0  0]\n",
            " [ 0  0  1  0  0  1  0 86  1  0]\n",
            " [ 0  2  2  0  0  3  0  5 76  0]\n",
            " [13  2  0 17  0  2  0  7 12 39]]\n"
          ]
        },
        {
          "output_type": "display_data",
          "data": {
            "text/plain": [
              "<Figure size 1000x300 with 4 Axes>"
            ],
            "image/png": "[encoded data removed]"
          },
          "metadata": {}
        },
        {
          "output_type": "display_data",
          "data": {
            "text/plain": [
              "<Figure size 1000x300 with 4 Axes>"
            ],
            "image/png": "[encoded data removed]"
          },
          "metadata": {}
        },
        {
          "output_type": "display_data",
          "data": {
            "text/plain": [
              "<Figure size 1000x300 with 4 Axes>"
            ],
            "image/png": "[encoded data removed]"
          },
          "metadata": {}
        },
        {
          "output_type": "display_data",
          "data": {
            "text/plain": [
              "<Figure size 1000x300 with 4 Axes>"
            ],
            "image/png": "[encoded data removed]"
          },
          "metadata": {}
        },
        {
          "output_type": "display_data",
          "data": {
            "text/plain": [
              "<Figure size 1000x300 with 4 Axes>"
            ],
            "image/png": "[encoded data removed]"
          },
          "metadata": {}
        },
        {
          "output_type": "display_data",
          "data": {
            "text/plain": [
              "<Figure size 1000x300 with 4 Axes>"
            ],
            "image/png": "[encoded data removed]"
          },
          "metadata": {}
        },
        {
          "output_type": "display_data",
          "data": {
            "text/plain": [
              "<Figure size 800x600 with 0 Axes>"
            ]
          },
          "metadata": {}
        }
      ]
    }
  ]
}