{
  "nbformat": 4,
  "nbformat_minor": 0,
  "metadata": {
    "colab": {
      "provenance": []
    },
    "kernelspec": {
      "name": "python3",
      "display_name": "Python 3"
    },
    "language_info": {
      "name": "python"
    }
  },
  "cells": [
    {
      "cell_type": "code",
      "execution_count": 2,
      "metadata": {
        "colab": {
          "base_uri": "https://localhost:8080/"
        },
        "id": "vTrMp69ckvZf",
        "outputId": "f957720c-de74-4fa1-9c16-8d146fd3764f"
      },
      "outputs": [
        {
          "output_type": "stream",
          "name": "stdout",
          "text": [
            "Hello world, this is Kolade Olojo\n"
          ]
        }
      ],
      "source": [
        "# koo0019 hello world assignment\n",
        "\n",
        "name = \"Kolade Olojo\"\n",
        "print(f\"Hello world, this is {name}\")"
      ]
    }
  ]
}